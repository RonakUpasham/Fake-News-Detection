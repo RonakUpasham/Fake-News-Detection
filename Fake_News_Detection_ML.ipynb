{
 "cells": [
  {
   "cell_type": "code",
   "execution_count": 1,
   "metadata": {},
   "outputs": [],
   "source": [
    "import pandas as pd\n",
    "import re\n",
    "import seaborn as sns\n",
    "from sklearn.feature_extraction.text import CountVectorizer\n",
    "from sklearn.model_selection import train_test_split\n",
    "from sklearn.naive_bayes import MultinomialNB\n",
    "from sklearn import metrics"
   ]
  },
  {
   "cell_type": "code",
   "execution_count": 2,
   "metadata": {},
   "outputs": [
    {
     "data": {
      "text/html": [
       "<div>\n",
       "<style scoped>\n",
       "    .dataframe tbody tr th:only-of-type {\n",
       "        vertical-align: middle;\n",
       "    }\n",
       "\n",
       "    .dataframe tbody tr th {\n",
       "        vertical-align: top;\n",
       "    }\n",
       "\n",
       "    .dataframe thead th {\n",
       "        text-align: right;\n",
       "    }\n",
       "</style>\n",
       "<table border=\"1\" class=\"dataframe\">\n",
       "  <thead>\n",
       "    <tr style=\"text-align: right;\">\n",
       "      <th></th>\n",
       "      <th>title</th>\n",
       "      <th>text</th>\n",
       "      <th>subject</th>\n",
       "      <th>date</th>\n",
       "    </tr>\n",
       "  </thead>\n",
       "  <tbody>\n",
       "    <tr>\n",
       "      <th>0</th>\n",
       "      <td>As U.S. budget fight looms, Republicans flip t...</td>\n",
       "      <td>WASHINGTON (Reuters) - The head of a conservat...</td>\n",
       "      <td>politicsNews</td>\n",
       "      <td>December 31, 2017</td>\n",
       "    </tr>\n",
       "    <tr>\n",
       "      <th>1</th>\n",
       "      <td>U.S. military to accept transgender recruits o...</td>\n",
       "      <td>WASHINGTON (Reuters) - Transgender people will...</td>\n",
       "      <td>politicsNews</td>\n",
       "      <td>December 29, 2017</td>\n",
       "    </tr>\n",
       "    <tr>\n",
       "      <th>2</th>\n",
       "      <td>Senior U.S. Republican senator: 'Let Mr. Muell...</td>\n",
       "      <td>WASHINGTON (Reuters) - The special counsel inv...</td>\n",
       "      <td>politicsNews</td>\n",
       "      <td>December 31, 2017</td>\n",
       "    </tr>\n",
       "    <tr>\n",
       "      <th>3</th>\n",
       "      <td>FBI Russia probe helped by Australian diplomat...</td>\n",
       "      <td>WASHINGTON (Reuters) - Trump campaign adviser ...</td>\n",
       "      <td>politicsNews</td>\n",
       "      <td>December 30, 2017</td>\n",
       "    </tr>\n",
       "    <tr>\n",
       "      <th>4</th>\n",
       "      <td>Trump wants Postal Service to charge 'much mor...</td>\n",
       "      <td>SEATTLE/WASHINGTON (Reuters) - President Donal...</td>\n",
       "      <td>politicsNews</td>\n",
       "      <td>December 29, 2017</td>\n",
       "    </tr>\n",
       "  </tbody>\n",
       "</table>\n",
       "</div>"
      ],
      "text/plain": [
       "                                               title  \\\n",
       "0  As U.S. budget fight looms, Republicans flip t...   \n",
       "1  U.S. military to accept transgender recruits o...   \n",
       "2  Senior U.S. Republican senator: 'Let Mr. Muell...   \n",
       "3  FBI Russia probe helped by Australian diplomat...   \n",
       "4  Trump wants Postal Service to charge 'much mor...   \n",
       "\n",
       "                                                text       subject  \\\n",
       "0  WASHINGTON (Reuters) - The head of a conservat...  politicsNews   \n",
       "1  WASHINGTON (Reuters) - Transgender people will...  politicsNews   \n",
       "2  WASHINGTON (Reuters) - The special counsel inv...  politicsNews   \n",
       "3  WASHINGTON (Reuters) - Trump campaign adviser ...  politicsNews   \n",
       "4  SEATTLE/WASHINGTON (Reuters) - President Donal...  politicsNews   \n",
       "\n",
       "                 date  \n",
       "0  December 31, 2017   \n",
       "1  December 29, 2017   \n",
       "2  December 31, 2017   \n",
       "3  December 30, 2017   \n",
       "4  December 29, 2017   "
      ]
     },
     "execution_count": 2,
     "metadata": {},
     "output_type": "execute_result"
    }
   ],
   "source": [
    "real = pd.read_csv('/Users/kshitijaupasham/Desktop/Fake_And_Real_News/True.csv')\n",
    "real.head()"
   ]
  },
  {
   "cell_type": "code",
   "execution_count": 3,
   "metadata": {},
   "outputs": [
    {
     "data": {
      "text/html": [
       "<div>\n",
       "<style scoped>\n",
       "    .dataframe tbody tr th:only-of-type {\n",
       "        vertical-align: middle;\n",
       "    }\n",
       "\n",
       "    .dataframe tbody tr th {\n",
       "        vertical-align: top;\n",
       "    }\n",
       "\n",
       "    .dataframe thead th {\n",
       "        text-align: right;\n",
       "    }\n",
       "</style>\n",
       "<table border=\"1\" class=\"dataframe\">\n",
       "  <thead>\n",
       "    <tr style=\"text-align: right;\">\n",
       "      <th></th>\n",
       "      <th>title</th>\n",
       "      <th>text</th>\n",
       "      <th>subject</th>\n",
       "      <th>date</th>\n",
       "    </tr>\n",
       "  </thead>\n",
       "  <tbody>\n",
       "    <tr>\n",
       "      <th>0</th>\n",
       "      <td>Donald Trump Sends Out Embarrassing New Year’...</td>\n",
       "      <td>Donald Trump just couldn t wish all Americans ...</td>\n",
       "      <td>News</td>\n",
       "      <td>December 31, 2017</td>\n",
       "    </tr>\n",
       "    <tr>\n",
       "      <th>1</th>\n",
       "      <td>Drunk Bragging Trump Staffer Started Russian ...</td>\n",
       "      <td>House Intelligence Committee Chairman Devin Nu...</td>\n",
       "      <td>News</td>\n",
       "      <td>December 31, 2017</td>\n",
       "    </tr>\n",
       "    <tr>\n",
       "      <th>2</th>\n",
       "      <td>Sheriff David Clarke Becomes An Internet Joke...</td>\n",
       "      <td>On Friday, it was revealed that former Milwauk...</td>\n",
       "      <td>News</td>\n",
       "      <td>December 30, 2017</td>\n",
       "    </tr>\n",
       "    <tr>\n",
       "      <th>3</th>\n",
       "      <td>Trump Is So Obsessed He Even Has Obama’s Name...</td>\n",
       "      <td>On Christmas day, Donald Trump announced that ...</td>\n",
       "      <td>News</td>\n",
       "      <td>December 29, 2017</td>\n",
       "    </tr>\n",
       "    <tr>\n",
       "      <th>4</th>\n",
       "      <td>Pope Francis Just Called Out Donald Trump Dur...</td>\n",
       "      <td>Pope Francis used his annual Christmas Day mes...</td>\n",
       "      <td>News</td>\n",
       "      <td>December 25, 2017</td>\n",
       "    </tr>\n",
       "  </tbody>\n",
       "</table>\n",
       "</div>"
      ],
      "text/plain": [
       "                                               title  \\\n",
       "0   Donald Trump Sends Out Embarrassing New Year’...   \n",
       "1   Drunk Bragging Trump Staffer Started Russian ...   \n",
       "2   Sheriff David Clarke Becomes An Internet Joke...   \n",
       "3   Trump Is So Obsessed He Even Has Obama’s Name...   \n",
       "4   Pope Francis Just Called Out Donald Trump Dur...   \n",
       "\n",
       "                                                text subject  \\\n",
       "0  Donald Trump just couldn t wish all Americans ...    News   \n",
       "1  House Intelligence Committee Chairman Devin Nu...    News   \n",
       "2  On Friday, it was revealed that former Milwauk...    News   \n",
       "3  On Christmas day, Donald Trump announced that ...    News   \n",
       "4  Pope Francis used his annual Christmas Day mes...    News   \n",
       "\n",
       "                date  \n",
       "0  December 31, 2017  \n",
       "1  December 31, 2017  \n",
       "2  December 30, 2017  \n",
       "3  December 29, 2017  \n",
       "4  December 25, 2017  "
      ]
     },
     "execution_count": 3,
     "metadata": {},
     "output_type": "execute_result"
    }
   ],
   "source": [
    "fake = pd.read_csv('/Users/kshitijaupasham/Desktop/Fake_And_Real_News/Fake.csv')\n",
    "fake.head()"
   ]
  },
  {
   "cell_type": "code",
   "execution_count": 4,
   "metadata": {
    "scrolled": true
   },
   "outputs": [
    {
     "data": {
      "text/html": [
       "<div>\n",
       "<style scoped>\n",
       "    .dataframe tbody tr th:only-of-type {\n",
       "        vertical-align: middle;\n",
       "    }\n",
       "\n",
       "    .dataframe tbody tr th {\n",
       "        vertical-align: top;\n",
       "    }\n",
       "\n",
       "    .dataframe thead th {\n",
       "        text-align: right;\n",
       "    }\n",
       "</style>\n",
       "<table border=\"1\" class=\"dataframe\">\n",
       "  <thead>\n",
       "    <tr style=\"text-align: right;\">\n",
       "      <th></th>\n",
       "      <th>title</th>\n",
       "      <th>target</th>\n",
       "    </tr>\n",
       "  </thead>\n",
       "  <tbody>\n",
       "    <tr>\n",
       "      <th>0</th>\n",
       "      <td>As U.S. budget fight looms, Republicans flip t...</td>\n",
       "      <td>1</td>\n",
       "    </tr>\n",
       "    <tr>\n",
       "      <th>1</th>\n",
       "      <td>U.S. military to accept transgender recruits o...</td>\n",
       "      <td>1</td>\n",
       "    </tr>\n",
       "    <tr>\n",
       "      <th>2</th>\n",
       "      <td>Senior U.S. Republican senator: 'Let Mr. Muell...</td>\n",
       "      <td>1</td>\n",
       "    </tr>\n",
       "    <tr>\n",
       "      <th>3</th>\n",
       "      <td>FBI Russia probe helped by Australian diplomat...</td>\n",
       "      <td>1</td>\n",
       "    </tr>\n",
       "    <tr>\n",
       "      <th>4</th>\n",
       "      <td>Trump wants Postal Service to charge 'much mor...</td>\n",
       "      <td>1</td>\n",
       "    </tr>\n",
       "  </tbody>\n",
       "</table>\n",
       "</div>"
      ],
      "text/plain": [
       "                                               title  target\n",
       "0  As U.S. budget fight looms, Republicans flip t...       1\n",
       "1  U.S. military to accept transgender recruits o...       1\n",
       "2  Senior U.S. Republican senator: 'Let Mr. Muell...       1\n",
       "3  FBI Russia probe helped by Australian diplomat...       1\n",
       "4  Trump wants Postal Service to charge 'much mor...       1"
      ]
     },
     "execution_count": 4,
     "metadata": {},
     "output_type": "execute_result"
    }
   ],
   "source": [
    "real['target'] = 1\n",
    "fake['target'] = 0\n",
    "df = pd.concat([real,fake])\n",
    "df['title'] = df['title'] +' '+df['text']\n",
    "df.drop(['text','subject','date'],axis=1,inplace=True)\n",
    "df.head()"
   ]
  },
  {
   "cell_type": "code",
   "execution_count": 5,
   "metadata": {},
   "outputs": [
    {
     "data": {
      "text/plain": [
       "0    23481\n",
       "1    21417\n",
       "Name: target, dtype: int64"
      ]
     },
     "execution_count": 5,
     "metadata": {},
     "output_type": "execute_result"
    }
   ],
   "source": [
    "df['target'].value_counts()"
   ]
  },
  {
   "cell_type": "code",
   "execution_count": 6,
   "metadata": {
    "scrolled": true
   },
   "outputs": [
    {
     "data": {
      "text/plain": [
       "['as u s budget fight looms republicans flip their fiscal script washington reuters the head of a conservative republican faction in the u s congress who voted this month for a huge expansion of the national debt to pay for tax cuts called himself a fiscal conservative on sunday and urged budget restraint in in keeping with a sharp pivot under way among republicans u s representative mark meadows speaking on cbs face the nation drew a hard line on federal spending which lawmakers are bracing to do battle over in january when they return from the holidays on wednesday lawmakers will begin trying to pass a federal budget in a fight likely to be linked to other issues such as immigration policy even as the november congressional election campaigns approach in which republicans will seek to keep control of congress president donald trump and his republicans want a big budget increase in military spending while democrats also want proportional increases for non defense discretionary spending on programs that support education scientific research infrastructure public health and environmental protection the trump administration has already been willing to say we re going to increase non defense discretionary spending by about percent meadows chairman of the small but influential house freedom caucus said on the program now democrats are saying that s not enough we need to give the government a pay raise of to percent for a fiscal conservative i don t see where the rationale is eventually you run out of other people s money he said meadows was among republicans who voted in late december for their party s debt financed tax overhaul which is expected to balloon the federal budget deficit and add about trillion over years to the trillion national debt it s interesting to hear mark talk about fiscal responsibility democratic u s representative joseph crowley said on cbs crowley said the republican tax bill would require the united states to borrow trillion to be paid off by future generations to finance tax cuts for corporations and the rich this is one of the least fiscally responsible bills we ve ever seen passed in the history of the house of representatives i think we re going to be paying for this for many many years to come crowley said republicans insist the tax package the biggest u s tax overhaul in more than years will boost the economy and job growth house speaker paul ryan who also supported the tax bill recently went further than meadows making clear in a radio interview that welfare or entitlement reform as the party often calls it would be a top republican priority in in republican parlance entitlement programs mean food stamps housing assistance medicare and medicaid health insurance for the elderly poor and disabled as well as other programs created by washington to assist the needy democrats seized on ryan s early december remarks saying they showed republicans would try to pay for their tax overhaul by seeking spending cuts for social programs but the goals of house republicans may have to take a back seat to the senate where the votes of some democrats will be needed to approve a budget and prevent a government shutdown democrats will use their leverage in the senate which republicans narrowly control to defend both discretionary non defense programs and social spending while tackling the issue of the dreamers people brought illegally to the country as children trump in september put a march expiration date on the deferred action for childhood arrivals or daca program which protects the young immigrants from deportation and provides them with work permits the president has said in recent twitter messages he wants funding for his proposed mexican border wall and other immigration law changes in exchange for agreeing to help the dreamers representative debbie dingell told cbs she did not favor linking that issue to other policy objectives such as wall funding we need to do daca clean she said on wednesday trump aides will meet with congressional leaders to discuss those issues that will be followed by a weekend of strategy sessions for trump and republican leaders on jan and the white house said trump was also scheduled to meet on sunday with florida republican governor rick scott who wants more emergency aid the house has passed an billion aid package after hurricanes in florida texas and puerto rico and wildfires in california the package far exceeded the billion requested by the trump administration the senate has not yet voted on the aid',\n",
       " 'u s military to accept transgender recruits on monday pentagon washington reuters transgender people will be allowed for the first time to enlist in the u s military starting on monday as ordered by federal courts the pentagon said on friday after president donald trump s administration decided not to appeal rulings that blocked his transgender ban two federal appeals courts one in washington and one in virginia last week rejected the administration s request to put on hold orders by lower court judges requiring the military to begin accepting transgender recruits on jan a justice department official said the administration will not challenge those rulings the department of defense has announced that it will be releasing an independent study of these issues in the coming weeks so rather than litigate this interim appeal before that occurs the administration has decided to wait for dod s study and will continue to defend the president s lawful authority in district court in the meantime the official said speaking on condition of anonymity in september the pentagon said it had created a panel of senior officials to study how to implement a directive by trump to prohibit transgender individuals from serving the defense department has until feb to submit a plan to trump lawyers representing currently serving transgender service members and aspiring recruits said they had expected the administration to appeal the rulings to the conservative majority supreme court but were hoping that would not happen pentagon spokeswoman heather babb said in a statement as mandated by court order the department of defense is prepared to begin accessing transgender applicants for military service jan all applicants must meet all accession standards jennifer levi a lawyer with gay lesbian and transgender advocacy group glad called the decision not to appeal great news i m hoping it means the government has come to see that there is no way to justify a ban and that it s not good for the military or our country levi said both glad and the american civil liberties union represent plaintiffs in the lawsuits filed against the administration in a move that appealed to his hard line conservative supporters trump announced in july that he would prohibit transgender people from serving in the military reversing democratic president barack obama s policy of accepting them trump said on twitter at the time that the military cannot be burdened with the tremendous medical costs and disruption that transgender in the military would entail four federal judges in baltimore washington d c seattle and riverside california have issued rulings blocking trump s ban while legal challenges to the republican president s policy proceed the judges said the ban would likely violate the right under the u s constitution to equal protection under the law the pentagon on dec issued guidelines to recruitment personnel in order to enlist transgender applicants by jan the memo outlined medical requirements and specified how the applicants sex would be identified and even which undergarments they would wear the trump administration previously said in legal papers that the armed forces were not prepared to train thousands of personnel on the medical standards needed to process transgender applicants and might have to accept some individuals who are not medically fit for service the obama administration had set a deadline of july to begin accepting transgender recruits but trump s defense secretary james mattis postponed that date to jan which the president s ban then put off indefinitely trump has taken other steps aimed at rolling back transgender rights in october his administration said a federal law banning gender based workplace discrimination does not protect transgender employees reversing another obama era position in february trump rescinded guidance issued by the obama administration saying that public schools should allow transgender students to use the restroom that corresponds to their gender identity',\n",
       " 'senior u s republican senator let mr mueller do his job washington reuters the special counsel investigation of links between russia and president trump s election campaign should continue without interference in despite calls from some trump administration allies and republican lawmakers to shut it down a prominent republican senator said on sunday lindsey graham who serves on the senate armed forces and judiciary committees said department of justice special counsel robert mueller needs to carry on with his russia investigation without political interference this investigation will go forward it will be an investigation conducted without political influence graham said on cbs s face the nation news program and we all need to let mr mueller do his job i think he s the right guy at the right time the question of how russia may have interfered in the election and how trump s campaign may have had links with or co ordinated any such effort has loomed over the white house since trump took office in january it shows no sign of receding as trump prepares for his second year in power despite intensified rhetoric from some trump allies in recent weeks accusing mueller s team of bias against the republican president trump himself seemed to undercut his supporters in an interview last week with the new york times in which he said he expected mueller was going to be fair russia s role in the election and the question of possible links to the trump campaign are the focus of multiple inquiries in washington three committees of the senate and the house of representatives are investigating as well as mueller whose team in may took over an earlier probe launched by the u s federal bureau of investigation fbi several members of the trump campaign and administration have been convicted or indicted in the investigation trump and his allies deny any collusion with russia during the campaign and the kremlin has denied meddling in the election graham said he still wants an examination of the fbi s use of a dossier on links between trump and russia that was compiled by a former british spy christopher steele which prompted trump allies and some republicans to question mueller s inquiry on saturday the new york times reported that it was not that dossier that triggered an early fbi probe but a tip from former trump campaign foreign policy adviser george papadopoulos to an australian diplomat that russia had damaging information about former trump rival hillary clinton i want somebody to look at the way the department of justice used this dossier it bothers me greatly the way they used it and i want somebody to look at it graham said but he said the russia investigation must continue as a matter of fact it would hurt us if we ignored it he said',\n",
       " 'fbi russia probe helped by australian diplomat tip off nyt washington reuters trump campaign adviser george papadopoulos told an australian diplomat in may that russia had political dirt on democratic presidential candidate hillary clinton the new york times reported on saturday the conversation between papadopoulos and the diplomat alexander downer in london was a driving factor behind the fbi s decision to open a counter intelligence investigation of moscow s contacts with the trump campaign the times reported two months after the meeting australian officials passed the information that came from papadopoulos to their american counterparts when leaked democratic emails began appearing online according to the newspaper which cited four current and former u s and foreign officials besides the information from the australians the probe by the federal bureau of investigation was also propelled by intelligence from other friendly governments including the british and dutch the times said papadopoulos a chicago based international energy lawyer pleaded guilty on oct to lying to fbi agents about contacts with people who claimed to have ties to top russian officials it was the first criminal charge alleging links between the trump campaign and russia the white house has played down the former aide s campaign role saying it was extremely limited and that any actions he took would have been on his own the new york times however reported that papadopoulos helped set up a meeting between then candidate donald trump and egyptian president abdel fattah al sisi and edited the outline of trump s first major foreign policy speech in april the federal investigation which is now being led by special counsel robert mueller has hung over trump s white house since he took office almost a year ago some trump allies have recently accused mueller s team of being biased against the republican president lawyers for papadopoulos did not immediately respond to requests by reuters for comment mueller s office declined to comment trump s white house attorney ty cobb declined to comment on the new york times report out of respect for the special counsel and his process we are not commenting on matters such as this he said in a statement mueller has charged four trump associates including papadopoulos in his investigation russia has denied interfering in the u s election and trump has said there was no collusion between his campaign and moscow',\n",
       " 'trump wants postal service to charge much more for amazon shipments seattle washington reuters president donald trump called on the u s postal service on friday to charge much more to ship packages for amazon amzn o picking another fight with an online retail giant he has criticized in the past why is the united states post office which is losing many billions of dollars a year while charging amazon and others so little to deliver their packages making amazon richer and the post office dumber and poorer should be charging much more trump wrote on twitter the president s tweet drew fresh attention to the fragile finances of the postal service at a time when tens of millions of parcels have just been shipped all over the country for the holiday season the u s postal service which runs at a big loss is an independent agency within the federal government and does not receive tax dollars for operating expenses according to its website package delivery has become an increasingly important part of its business as the internet has led to a sharp decline in the amount of first class letters the president does not determine postal rates they are set by the postal regulatory commission an independent government agency with commissioners selected by the president from both political parties that panel raised prices on packages by almost percent in november amazon was founded by jeff bezos who remains the chief executive officer of the retail company and is the richest person in the world according to bloomberg news bezos also owns the washington post a newspaper trump has repeatedly railed against in his criticisms of the news media in tweets over the past year trump has said the amazon washington post fabricated stories he has said amazon does not pay sales tax which is not true and so hurts other retailers part of a pattern by the former businessman and reality television host of periodically turning his ire on big american companies since he took office in january daniel ives a research analyst at gbh insights said trump s comment could be taken as a warning to the retail giant however he said he was not concerned for amazon we do not see any price hikes in the future however that is a risk that amazon is clearly aware of and it is building out its distribution system aggressively he said amazon has shown interest in the past in shifting into its own delivery service including testing drones for deliveries in the company spent billion on shipping percent of its total operating expenses that year amazon shares were down percent to by early afternoon overall u s stock prices were down slightly on friday satish jindel president of shipmatrix inc which analyzes shipping data disputed the idea that the postal service charges less than united parcel service inc ups n and fedex corp fdx n the other biggest players in the parcel delivery business in the united states many customers get lower rates from ups and fedex than they would get from the post office for comparable services he said the postal service delivers about percent of amazon packages for about to million a day during the current peak year end holiday shipping season jindel said the seattle based company and the post office have an agreement in which mail carriers take amazon packages on the last leg of their journeys from post offices to customers doorsteps amazon s no carrier is ups at percent and fedex is third with percent or so according to jindel trump s comment tapped into a debate over whether postal service pricing has kept pace with the rise of e commerce which has flooded the mail with small packages private companies like ups have long claimed the current system unfairly undercuts their business steve gaut a spokesman for ups noted that the company values its productive relationship with the postal service but that it has filed with the postal regulatory commission its concerns about the postal service s methods for covering costs representatives for amazon the white house the u s postal service and fedex declined comment or were not immediately available for comment on trump s tweet according to its annual report the postal service lost billion this year and its deficit has ballooned to billion while the postal service s revenue for first class mail marketing mail and periodicals is flat or declining revenue from package delivery is up percent since to billion in the fiscal year ended sept but it also lost about billion in revenue when a temporary surcharge expired in april according to a government accountability office report in february the service is facing growing personnel expenses particularly billion in unfunded pension and benefits liabilities the postal service has not announced any plans to cut costs by law the postal service has to set prices for package delivery to cover the costs attributable to that service but the postal service allocates only percent of its total costs to its business of shipping packages even though that line of business is percent of its total revenue',\n",
       " 'white house congress prepare for talks on spending immigration west palm beach fla washington reuters the white house said on friday it was set to kick off talks next week with republican and democratic congressional leaders on immigration policy government spending and other issues that need to be wrapped up early in the new year the expected flurry of legislative activity comes as republicans and democrats begin to set the stage for midterm congressional elections in november president donald trump s republican party is eager to maintain control of congress while democrats look for openings to wrest seats away in the senate and the house of representatives on wednesday trump s budget chief mick mulvaney and legislative affairs director marc short will meet with senate majority leader mitch mcconnell and house speaker paul ryan both republicans and their democratic counterparts senator chuck schumer and representative nancy pelosi the white house said that will be followed up with a weekend of strategy sessions for trump mcconnell and ryan on jan and at the camp david presidential retreat in maryland according to the white house the senate returns to work on jan and the house on jan congress passed a short term government funding bill last week before taking its christmas break but needs to come to an agreement on defense spending and various domestic programs by jan or the government will shut down also on the agenda for lawmakers is disaster aid for people hit by hurricanes in puerto rico texas and florida and by wildfires in california the house passed an billion package in december which the senate did not take up the white house has asked for a smaller figure billion deadlines also loom for soon to expire protections for young adult immigrants who entered the country illegally as children known as dreamers in september trump ended democratic former president barack obama s deferred action for childhood arrivals daca program which protected dreamers from deportation and provided work permits effective in march giving congress until then to devise a long term solution democrats some republicans and a number of large companies have pushed for daca protections to continue trump and other republicans have said that will not happen without congress approving broader immigration policy changes and tougher border security democrats oppose funding for a wall promised by trump along the u s mexican border the democrats have been told and fully understand that there can be no daca without the desperately needed wall at the southern border and an end to the horrible chain migration ridiculous lottery system of immigration etc trump said in a twitter post on friday trump wants to overhaul immigration rules for extended families and others seeking to live in the united states republican u s senator jeff flake a frequent critic of the president said he would work with trump to protect dreamers we can fix daca in a way that beefs up border security stops chain migration for the dreamers and addresses the unfairness of the diversity lottery if potus trump wants to protect these kids we want to help him keep that promise flake wrote on twitter congress in early also must raise the u s debt ceiling to avoid a government default the u s treasury would exhaust all of its borrowing options and run dry of cash to pay its bills by late march or early april if congress does not raise the debt ceiling before then according to the nonpartisan congressional budget office trump who won his first major legislative victory with the passage of a major tax overhaul this month has also promised a major infrastructure plan',\n",
       " 'trump says russia probe will be fair but timeline unclear nyt west palm beach fla reuters president donald trump said on thursday he believes he will be fairly treated in a special counsel investigation into russian meddling in the u s presidential election but said he did not know how long the probe would last the federal investigation has hung over trump s white house since he took office almost a year ago and some trump allies have in recent weeks accused the team of justice department special counsel robert mueller of being biased against the republican president but in an interview with the new york times trump appeared to shrug off concerns about the investigation which was prompted by u s intelligence agencies conclusion that russia tried to help trump defeat democrat hillary clinton by hacking and releasing embarrassing emails and disseminating propaganda there s been no collusion but i think he s going to be fair trump said in what the times described as a minute impromptu interview at his golf club in west palm beach florida mueller has charged four trump associates in his investigation russia has denied interfering in the u s election u s deputy attorney general rod rosenstein said this month that he was not aware of any impropriety by mueller s team trump s lawyers have been saying for weeks that they had expected the mueller investigation to wrap up quickly possibly by the end of mueller has not commented on how long it will last trump told the times that he did not know how long the investigation would take timing wise i can t tell you i just don t know he said trump said he thought a prolonged probe makes the country look bad but said it has energized his core supporters what it s done is it s really angered the base and made the base stronger my base is strong than it s ever been he said the interview was a rare break in trump s christmas vacation in florida he has golfed each day aside from christmas day and mainly kept a low profile apart from the occasional flurry of tweets he spent one day golfing with republican senator david perdue from georgia who has pushed legislation to cap immigration numbers and had dinner on thursday with commerce secretary wilbur ross an international trade hawk trump told the times he hoped to work with democrats in the u s congress on a spending plan to fix roads and other infrastructure and on protections for a group of undocumented immigrants who were brought to the united states as children trump spoke about trade issues saying he had backed off his hard line on chinese trade practices in the hope that beijing would do more to pressure north korea to end its nuclear and missile testing program he said he had been disappointed in the results he also complained about the north american free trade agreement nafta which his administration is attempting to renegotiate in talks with mexico and canada trump said canadian prime minister justin trudeau had played down the importance of canadian oil and lumber exports to the united states when looking at the balance of trade between the two countries if i don t make the right deal i ll terminate nafta in two seconds but we re doing pretty good trump said',\n",
       " 'factbox trump on twitter dec approval rating amazon the following statements were posted to the verified twitter accounts of u s president donald trump realdonaldtrump and potus the opinions expressed are his own reuters has not edited the statements or confirmed their accuracy realdonaldtrump while the fake news loves to talk about my so called low approval rating foxandfriends just showed that my rating on dec was approximately the same as president obama on dec which was and this despite massive negative trump coverage russia hoax est why is the united states post office which is losing many billions of dollars a year while charging amazon and others so little to deliver their packages making amazon richer and the post office dumber and poorer should be charging much more est source link bit ly jbh lu bit ly jpexyr',\n",
       " 'trump on twitter dec global warming the following statements were posted to the verified twitter accounts of u s president donald trump realdonaldtrump and potus the opinions expressed are his own reuters has not edited the statements or confirmed their accuracy realdonaldtrump together we are making america great again bit ly lnpkaq est in the east it could be the coldest new year s eve on record perhaps we could use a little bit of that good old global warming that our country but not other countries was going to pay trillions of dollars to protect against bundle up est source link bit ly jbh lu bit ly jpexyr',\n",
       " 'alabama official to certify senator elect jones today despite challenge cnn washington reuters alabama secretary of state john merrill said he will certify democratic senator elect doug jones as winner on thursday despite opponent roy moore s challenge in a phone call on cnn moore a conservative who had faced allegations of groping teenage girls when he was in his s filed a court challenge late on wednesday to the outcome of a u s senate election he unexpectedly lost',\n",
       " 'jones certified u s senate winner despite moore challenge reuters alabama officials on thursday certified democrat doug jones the winner of the state s u s senate race after a state judge denied a challenge by republican roy moore whose campaign was derailed by accusations of sexual misconduct with teenage girls jones won the vacant seat by about votes or percentage points election officials said that made him the first democrat in a quarter of a century to win a senate seat in alabama the seat was previously held by republican jeff sessions who was tapped by u s president donald trump as attorney general a state canvassing board composed of alabama secretary of state john merrill governor kay ivey and attorney general steve marshall certified the election results seating jones will narrow the republican majority in the senate to of seats in a statement jones called his victory a new chapter and pledged to work with both parties moore declined to concede defeat even after trump urged him to do so he stood by claims of a fraudulent election in a statement released after the certification and said he had no regrets media outlets reported an alabama judge denied moore s request to block certification of the results of the dec election in a decision shortly before the canvassing board met moore s challenge alleged there had been potential voter fraud that denied him a chance of victory his filing on wednesday in the montgomery circuit court sought to halt the meeting scheduled to ratify jones win on thursday moore could ask for a recount in addition to possible other court challenges merrill said in an interview with fox news channel he would have to complete paperwork within a timed period and show he has the money for a challenge merrill said we ve not been notified yet of their intention to do that merrill said regarding the claim of voter fraud merrill told cnn that more than cases had been reported we ve adjudicated more than of those we will continue to do that he said republican lawmakers in washington had distanced themselves from moore and called for him to drop out of the race after several women accused him of sexual assault or misconduct dating back to when they were teenagers and he was in his early s moore has denied wrongdoing and reuters has not been able to independently verify the allegations',\n",
       " 'new york governor questions the constitutionality of federal tax overhaul new york washington reuters the new u s tax code targets high tax states and may be unconstitutional new york governor andrew cuomo said on thursday saying that the bill may violate new york residents rights to due process and equal protection the sweeping republican tax bill signed into law by u s president donald trump on friday introduces a cap of on deductions of state and local income and property taxes known as salt the tax overhaul was the party s first major legislative victory since trump took office in january the salt provision will hit many taxpayers in states with high incomes high property values and high taxes like new york new jersey and california those states are generally democratic leaning i m not even sure what they did is legally constitutional and that s something we re looking at now cuomo said in an interview with cnn in an interview with cnbc cuomo suggested why the bill may be unconstitutional politics does not trump the law cuomo said on cnbc you have the constitution you have the law you have due process you have equal protection you can t use politics just because the majority controls to override the law the fifth amendment of the constitution better known for its protection against self incrimination also protects individuals from seizure of life liberty or property without due process and has been interpreted by the supreme court as guaranteeing equal protection by the law cuomo and california governor jerry brown both democrats have previously said they were exploring legal challenges to salt deduction limits law professors have said legal challenges would likely rest on arguing that the provision interferes with the protection of states rights under the u s constitution s th amendment tax attorneys said cuomo s legal argument against the tax bill could be that it discriminates and places an unjust tax burden on states that heavily voted for democrats in the past known as blue states the de facto effect of this legislation is to discriminate against blue states and particularly from cuomo s perspective the state of new york said joseph callahan an attorney with the law firm mackay caswell callahan in new york but some tax experts noted the u s supreme court has interpreted the th amendment to give congress broad latitude to tax as it sees fit in a frequently cited decision the supreme court called tax deductions a legislative grace rather than a vested right i don t understand how they think they have a valid lawsuit here david gamage a professor of tax law at indiana university s maurer school of law told reuters last week speaking generally about governors in blue states that could challenge the tax bill cuomo also said on thursday that new york is proposing a restructuring of its tax code he provided no details a group of law professors on dec published a paper suggesting ways that high tax states could minimize the effects of the salt deduction cap their suggestions included shifting more of the tax burden onto businesses in the form of higher employer side payroll taxes since the federal tax bill s cap on salt deductions only applies to individuals and not businesses states also could raise taxes on pass through entities which the federal tax bill specifically benefits with a lower rate on a portion of their income on friday cuomo said he would allow state residents to make a partial or full pre payment on their property tax bill before jan allowing taxpapyers to deduct such payments for before the cap kicks in prompting a wave of residents to pay early however the u s internal revenue service on wednesday advised homeowners that the pre payment of property taxes may not be deductible',\n",
       " 'factbox trump on twitter dec vanity fair hillary clinton the following statements were posted to the verified twitter accounts of u s president donald trump realdonaldtrump and potus the opinions expressed are his own reuters has not edited the statements or confirmed their accuracy realdonaldtrump vanity fair which looks like it is on its last legs is bending over backwards in apologizing for the minor hit they took at crooked h anna wintour who was all set to be amb to court of st james s a big fundraiser for ch is beside herself in grief begging for forgiveness est source link bit ly jbh lu bit ly jpexyr',\n",
       " 'trump on twitter dec trump iraq syria the following statements were posted to the verified twitter accounts of u s president donald trump realdonaldtrump and potus the opinions expressed are his own reuters has not edited the statements or confirmed their accuracy realdonaldtrump on the day trump was inaugurated an estimated isis fighters held approx square miles of territory in both iraq and syria as of the u s military estimates the remaining or so fighters occupy roughly square miles via jamiejmcintyre est just left west palm beach fire rescue met with great men and women as representatives of those who do so much for all of us firefighters paramedics first responders what amazing people they are est on the day trump was inaugurated an estimated isis fighters held approx square miles of territory in both iraq and syria as of the u s military est the remaining or so fighters occupy roughly square miles jamiejmcintyre dcexaminer est arrests of ms members associates up under trump bit ly lirh b est source link bit ly jbh lu bit ly jpexyr',\n",
       " 'man says he delivered manure to mnuchin to protest new u s tax law in dec story in second paragraph corrects name of strong s employer to mental health department not public health department by bernie woodall reuters a man claiming to be the person who delivered a gift wrapped package of horse manure at the los angeles home of u s treasury secretary steven mnuchin said on monday he did it to protest the federal tax overhaul signed into law last week by president donald trump robert strong a psychologist for the los angeles county mental health department said by telephone he left the poop filled parcel addressed to mnuchin and trump in the driveway outside mnuchin s home in the posh bel air community knbc tv an nbc television affiliate in los angeles reported mnuchin was not home at the time the package was found by mnuchin s neighbor protest really should be funny strong told reuters people s eyes glaze over when they just see angry people in the streets he believes the new tax law will hurt poor people neither the u s secret service nor the los angeles police department both of which investigated the incident would confirm strong was responsible the secret service interviewed an individual who admitted delivering the package but no charges had been filed against him as of monday afternoon lapd lieutenant rob weise said it was possible whoever left the package did not break any criminal laws while he is not assigned to investigate the incident weise said if the box did not present any danger it would not be illegal the lapd bomb squad x rayed the box before opening it on saturday in a photo of the card strong posted on twitter he wrote misters mnuchin trump we re returning the gift of the christmas tax bill and signed it warmest wishes the american people strong said a secret service agent accompanied by six police officers showed up at his house to question him on sunday night and the agent chided him asking are you ashamed of your behavior the white house declined to comment on monday and officials with the treasury department could not be reached',\n",
       " 'virginia officials postpone lottery drawing to decide tied statehouse election reuters a lottery drawing to settle a tied virginia legislative race that could shift the statehouse balance of power has been indefinitely postponed state election officials said on tuesday after the democratic candidate mounted a legal fight the decision to put off the high stakes lotto originally scheduled for wednesday marks the latest twist in a dramatic election recount that at one point showed democrat shelly simonds beating republican incumbent david yancey by a single vote a victory by simonds would shift republicans slim control of the member house of delegates to an even split with the democrats forcing the two parties into a rare power sharing arrangement a day after simonds emerged as the victor of a recount a three judge panel ruled that a disputed ballot should be counted for yancey that decision left the two candidates tied with votes each in a district that encompasses the shipping hub of newport news in southeastern virginia setting the stage for the equivalent of a coin toss to pick a final winner simonds asked a state court to reconsider on tuesday arguing that the disputed ballot was wrongly included an image filed in court showed that the ballot had bubbles filled in beside both names with a slash mark by simonds name the voter selected republicans for other offices simonds told reporters that the case had implications not only for her contest but for the integrity of state elections as a whole saying that without a court ruling in her favor recounts would become a never ending spiral of courtroom challenges the chairman of the virginia board of elections james alcorn said in a statement that while holding a lottery would be in keeping with state law such a move should be considered an action of last resort he added any substantive concerns regarding the election or recount should be resolved before a random drawing is conducted yancey s campaign did not immediately respond to requests for comment the virginia house republican caucus said in a statement that it was reviewing the new court filings we believe the court acted appropriately and that the integrity of the process is without question spokesman parker slaybaugh said virginia department of elections spokeswoman andrea gaines said in an email that no new date for a drawing has been set democrats notched historic gains in virginia s statehouse elections last month part of the party s first big wave of political victories since republican donald trump won the white house last year before the nov general election virginia republicans held seats to the democrats in the house of delegates along with a majority in the state senate',\n",
       " 'u s lawmakers question businessman at trump tower meeting sources washington reuters a georgian american businessman who met then miss universe pageant owner donald trump in has been questioned by congressional investigators about whether he helped organize a meeting between russians and trump s eldest son during the election campaign four sources familiar with the matter said the meeting at trump tower in new york involving donald trump jr and other campaign advisers is a focus of probes by congress and special counsel robert mueller on whether campaign officials colluded with russia when it sought to interfere in the u s election the sources said russia denies allegations by u s intelligence agencies that it meddled in the election and president donald trump denies any collusion the senate and house of representatives intelligence committees recently questioned behind closed doors irakly kaveladze a u s citizen born in the former soviet republic of georgia the sources said he is a u s based representative of azerbaijani oligarch aras agalarov s real estate firm the crocus group the panels knew kaveladze was at the june meeting but became more interested in him after learning he also attended a private dinner in las vegas in with trump and agalarov as they celebrated an agreement to hold that year s miss universe pageant in moscow the sources said committee members now want to know more about the extent of kaveladze s contacts with the trump family and whether he had a bigger role than previously believed in setting up the trump tower meeting when trump was a republican candidate for president the white house declined to comment mueller s office also declined to comment scott balber a new york lawyer who represents kaveladze confirmed that his client attended both the dinner in las vegas and the trump tower meeting but said he did not set up the second meeting trump s son in law jared kushner other trump campaign aides and russian lawyer natalia veselnitskaya were also at that meeting lawyer balber also said the committees were only seeking kaveladze s input as a witness and were not targeting him for investigation no one has ever told me that they have any interest in him other than as a witness balber said lawyers for trump jr and kushner did not respond to requests for comment about their contacts with kaveladze a lawyer for president trump declined to comment one photograph from the dinner when trump still owned the miss universe pageant shows agalarov and his pop singer son emin along with trump two trump aides and several other people at the dining table another shows kaveladze standing behind trump and emin agalarov as they speak the pictures were found by a university of california at irvine student and blogger scott stedman who posted them on nov aras agalarov is a billionaire property developer in russia who was awarded the order of honor by russian president vladimir putin several u s officials who spoke on condition of anonymity said mueller s team and the committees are looking for any evidence of a link between the trump tower meeting and the release six weeks later of emails stolen from democratic party organizations they are also trying to determine whether there was any discussion at the new york meeting of lifting u s economic sanctions on russia a top priority for putin the officials said rob goldstone a british publicist told trump jr ahead of the new york meeting that russian lawyer veselnitskaya would be bringing damaging information about donations to a charity linked to trump s democratic rival hillary clinton according to emails later released by trump jr trump jr initially said the meeting was about russian adoptions but later said it also included veselnitskaya s promises of information on the donations to the clinton charity he said he ultimately never received the information although it was later posted on the internet in a statement issued after meeting with the senate judiciary committee on sept trump jr said goldstone and veselnitskaya were in a conference room with him as well as kaveladze and a translator balber said kaveladze attended expecting to serve as a translator although he did not do so in the end because veselnitskaya brought her own',\n",
       " 'trump on twitter dec hillary clinton tax cut bill the following statements were posted to the verified twitter accounts of u s president donald trump realdonaldtrump and potus the opinions expressed are his own reuters has not edited the statements or confirmed their accuracy realdonaldtrump based on the fact that the very unfair and unpopular individual mandate has been terminated as part of our tax cut bill which essentially repeals over time obamacare the democrats republicans will eventually come together and develop a great new healthcare plan est wow foxandfrlends dossier is bogus clinton campaign dnc funded dossier fbi cannot after all of this time verify claims in dossier of russia trump collusion fbi tainted and they used this crooked hillary pile of garbage as the basis for going after the trump campaign est all signs are that business is looking really good for next year only to be helped further by our tax cut bill will be a great year for companies and jobs stock market is poised for another year of success est source link bit ly jbh lu bit ly jpexyr',\n",
       " 'u s appeals court rejects challenge to trump voter fraud panel reuters a u s appeals court in washington on tuesday upheld a lower court s decision to allow president donald trump s commission investigating voter fraud to request data on voter rolls from u s states the u s court of appeals for the district of columbia circuit said the electronic privacy information center epic watchdog group which filed the lawsuit did not have legal standing to seek to force the presidential commission to review privacy concerns before collecting individuals voter data epic had argued that under federal law the commission was required to conduct a privacy impact assessment before gathering personal data but the three judge appeals court panel ruled unanimously that the privacy law at issue was intended to protect individuals not groups like epic epic is not a voter judge karen henderson wrote in the ruling washington based u s district judge colleen kollar kotelly first denied epic s injunction request in july in part because the collection of data by the commission was not technically an action by a government agency so was not bound by laws that govern what such entities can do kollar kotelly noted that the commission headed by vice president mike pence was an advisory body that lacks legal authority to compel states to hand over the data most state officials who oversee elections and election law experts say that voter fraud is rare in the united states trump a republican set up the commission in may after charging without evidence that millions of people voted unlawfully in the presidential election in which he defeated democratic opponent hillary clinton despite losing the popular vote the commission s vice chair kris kobach the republican secretary of state for kansas and an advocate of tougher laws on immigration and voter identification asked states in june to turn over voter information the data requested by kobach included names the last four digits of social security numbers addresses birth dates political affiliation felony convictions and voting histories more than states refused outright and others said they needed to study whether they could provide the data civil rights groups and democratic lawmakers have said the commission s eventual findings could lead to new id requirements and other measures making it harder for groups that tend to favor democratic candidates to cast ballots epic executive director marc rotenberg could not immediately be reached for comment',\n",
       " 'treasury secretary mnuchin was sent gift wrapped box of horse manure reports reuters a gift wrapped package addressed to u s treasury secretary steven mnuchin s home in a posh los angeles neighborhood that was suspected of being a bomb was instead filled with horse manure police told local media the package was found saturday evening in a next door neighbor s driveway in bel air the los angeles police department told the los angeles times and knbc television the nbc affiliate in los angeles the package also included a christmas card with negative comments about president donald trump and the new u s tax law signed by trump last week reuters could not reach lapd officials for comment on sunday an lapd bomb squad x rayed the package before opening it and found the horse manure inside police told local media aerial footage from knbc showed officers investigating a large box in wrapping paper then dumping a large amount of what they later identified as the manure and opening the card that was included inside mnuchin who knbc said was not home when the package was discovered is a former goldman sachs group inc executive and hollywood film financier a road in bel air was closed for about two hours knbc reported the u s secret service is also investigating the incident according to the tv station']"
      ]
     },
     "execution_count": 6,
     "metadata": {},
     "output_type": "execute_result"
    }
   ],
   "source": [
    "text=[]\n",
    "for i in range(len(df)):\n",
    "    sample=re.sub('[^a-zA-Z]',' ',df['title'].iloc[i])\n",
    "    sample=sample.lower()\n",
    "    sample=sample.split()\n",
    "    sample=' '.join(sample)\n",
    "    text.append(sample)\n",
    "text[:20]"
   ]
  },
  {
   "cell_type": "code",
   "execution_count": 7,
   "metadata": {},
   "outputs": [],
   "source": [
    "cv = CountVectorizer(max_features=80000,ngram_range=(1,2))\n",
    "X = cv.fit_transform(text).toarray()\n",
    "y=df['target']"
   ]
  },
  {
   "cell_type": "code",
   "execution_count": 8,
   "metadata": {},
   "outputs": [],
   "source": [
    "X_train, X_test, y_train, y_test = train_test_split(X, y, test_size=0.2, random_state=0)"
   ]
  },
  {
   "cell_type": "code",
   "execution_count": 9,
   "metadata": {},
   "outputs": [
    {
     "name": "stdout",
     "output_type": "stream",
     "text": [
      "accuracy:  0.9706013363028954\n",
      "f1 score:  0.9694090382387022\n"
     ]
    }
   ],
   "source": [
    "clf = MultinomialNB(alpha=0.2)\n",
    "clf.fit(X_train, y_train)\n",
    "y_pred = clf.predict(X_test)\n",
    "accuracy=metrics.accuracy_score(y_test,y_pred)\n",
    "f_score=metrics.f1_score(y_test, y_pred)\n",
    "print('accuracy: ',accuracy)\n",
    "print('f1 score: ',f_score)"
   ]
  },
  {
   "cell_type": "code",
   "execution_count": 10,
   "metadata": {},
   "outputs": [
    {
     "data": {
      "image/png": "[encoded data removed]",
      "text/plain": [
       "<Figure size 432x288 with 2 Axes>"
      ]
     },
     "metadata": {
      "needs_background": "light"
     },
     "output_type": "display_data"
    }
   ],
   "source": [
    "sns.heatmap(metrics.confusion_matrix(y_test,y_pred),annot=True,fmt='d');"
   ]
  }
 ],
 "metadata": {
  "kernelspec": {
   "display_name": "Python 3",
   "language": "python",
   "name": "python3"
  },
  "language_info": {
   "codemirror_mode": {
    "name": "ipython",
    "version": 3
   },
   "file_extension": ".py",
   "mimetype": "text/x-python",
   "name": "python",
   "nbconvert_exporter": "python",
   "pygments_lexer": "ipython3",
   "version": "3.7.6"
  }
 },
 "nbformat": 4,
 "nbformat_minor": 4
}
